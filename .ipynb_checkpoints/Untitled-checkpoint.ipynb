{
 "cells": [
  {
   "cell_type": "raw",
   "id": "d3cd2915-feae-4585-8269-070051491621",
   "metadata": {},
   "source": [
    "set valued data\n",
    "Algorithm: GR algoritm for reduct in a set valued information system\n",
    "Input: An Incomplete set valued decision system = (U, C union D)\n",
    "where U = objects and C is the conditional attribute and D is the decisional attribute\n",
    "Output: One attribute set p\n",
    "# initialize p = {} and start = 1\n",
    "p = {} # empty reduct set\n",
    "start = 1\n",
    "while start do:\n",
    "    for each attribute c in P do:\n",
    "        calculate the gain ratio of the attribute a\n",
    "        GR =(C,P,D)\n",
    "    end\n",
    "    select the attribute a which its GR = (C,P,D) has max value\n",
    "    if GR = (C,P,D)>0 then\n",
    "        P = P union {C}\n",
    "    else\n",
    "        start = 0\n",
    "    end\n",
    "end\n",
    "obtain one reduct p\n"
   ]
  },
  {
   "cell_type": "code",
   "execution_count": 84,
   "id": "bf778109-dbf5-480d-8af5-2ad6ccb767a0",
   "metadata": {},
   "outputs": [],
   "source": [
    "import pandas as pd\n",
    "import numpy as np"
   ]
  },
  {
   "cell_type": "code",
   "execution_count": 85,
   "id": "08fd6418-b66a-4560-a4b1-7fb62ea4b0dc",
   "metadata": {
    "scrolled": true
   },
   "outputs": [
    {
     "data": {
      "text/html": [
       "<div>\n",
       "<style scoped>\n",
       "    .dataframe tbody tr th:only-of-type {\n",
       "        vertical-align: middle;\n",
       "    }\n",
       "\n",
       "    .dataframe tbody tr th {\n",
       "        vertical-align: top;\n",
       "    }\n",
       "\n",
       "    .dataframe thead th {\n",
       "        text-align: right;\n",
       "    }\n",
       "</style>\n",
       "<table border=\"1\" class=\"dataframe\">\n",
       "  <thead>\n",
       "    <tr style=\"text-align: right;\">\n",
       "      <th></th>\n",
       "      <th>c1</th>\n",
       "      <th>c2</th>\n",
       "      <th>c3</th>\n",
       "      <th>d</th>\n",
       "    </tr>\n",
       "  </thead>\n",
       "  <tbody>\n",
       "    <tr>\n",
       "      <th>0</th>\n",
       "      <td>{1, 2, 3, 4}</td>\n",
       "      <td>{0, 1}</td>\n",
       "      <td>{1, 2}</td>\n",
       "      <td>0</td>\n",
       "    </tr>\n",
       "    <tr>\n",
       "      <th>1</th>\n",
       "      <td>{2, 3}</td>\n",
       "      <td>{2, 3}</td>\n",
       "      <td>{1}</td>\n",
       "      <td>0</td>\n",
       "    </tr>\n",
       "    <tr>\n",
       "      <th>2</th>\n",
       "      <td>{1, 2, 3, 4}</td>\n",
       "      <td>{1, 2}</td>\n",
       "      <td>{1, 2}</td>\n",
       "      <td>1</td>\n",
       "    </tr>\n",
       "    <tr>\n",
       "      <th>3</th>\n",
       "      <td>{2, 3, 4}</td>\n",
       "      <td>{0, 1, 2, 3}</td>\n",
       "      <td>{0, 1}</td>\n",
       "      <td>0</td>\n",
       "    </tr>\n",
       "    <tr>\n",
       "      <th>4</th>\n",
       "      <td>{2, 4}</td>\n",
       "      <td>{0, 1, 2}</td>\n",
       "      <td>{0, 1}</td>\n",
       "      <td>1</td>\n",
       "    </tr>\n",
       "  </tbody>\n",
       "</table>\n",
       "</div>"
      ],
      "text/plain": [
       "             c1            c2      c3  d\n",
       "0  {1, 2, 3, 4}        {0, 1}  {1, 2}  0\n",
       "1        {2, 3}        {2, 3}     {1}  0\n",
       "2  {1, 2, 3, 4}        {1, 2}  {1, 2}  1\n",
       "3     {2, 3, 4}  {0, 1, 2, 3}  {0, 1}  0\n",
       "4        {2, 4}     {0, 1, 2}  {0, 1}  1"
      ]
     },
     "execution_count": 85,
     "metadata": {},
     "output_type": "execute_result"
    }
   ],
   "source": [
    "data = pd.DataFrame({\n",
    "    'c1' : [{1,2,3,4},{2,3},{1,2,3,4},{2,3,4},{2,4}],\n",
    "    'c2' : [{0,1},{2,3},{1,2},{0,1,2,3},{0,1,2}],\n",
    "    'c3' : [{1,2},{1},{1,2},{0,1},{0,1}],\n",
    "    'd' : [0,0,1,0,1]\n",
    "})\n",
    "\n",
    "# data = pd.DataFrame({\n",
    "#     'c1' : [{1,2,3,4}, {2,3}, {1,2,3,4}, {2,3,4}, {2,4}],\n",
    "#     'c2' : [{0,1}, {2, 3}, {1,2}, {0,1,2,3}, {0,1,2}],\n",
    "#     'c3' : [{1,2}, {1}, {1,2}, {0,1}, {0,1}],\n",
    "#     'c4' : [{0},{1}, {0}, {0,1}, {0,1}],\n",
    "#     'd' : [1,1,2,1,2]\n",
    "\n",
    "# })\n",
    "data"
   ]
  },
  {
   "cell_type": "markdown",
   "id": "f76c684d-b4b7-4659-b59d-85b6642c6b20",
   "metadata": {},
   "source": [
    "## make the decisional matrix"
   ]
  },
  {
   "cell_type": "code",
   "execution_count": 86,
   "id": "63ab9ffc-d8d1-4990-b10d-b68411104d8d",
   "metadata": {},
   "outputs": [],
   "source": [
    "# make the decision matrix\n",
    "def decisional_matrix(decision_attribute):\n",
    "    decision_attribute = decision_attribute.tolist()\n",
    "    decision_mat = []\n",
    "    for i, data1 in enumerate(decision_attribute):\n",
    "        temp = []\n",
    "        for j, data2 in enumerate(decision_attribute):\n",
    "            if(data1 == data2):\n",
    "                temp.append(1)\n",
    "            else:\n",
    "                temp.append(0)\n",
    "        decision_mat.append(temp)\n",
    "    return decision_mat"
   ]
  },
  {
   "cell_type": "markdown",
   "id": "d998192e-ea8f-43f9-99fa-0f108e09b563",
   "metadata": {},
   "source": [
    "# Calculate the similarity"
   ]
  },
  {
   "cell_type": "code",
   "execution_count": 87,
   "id": "d7e5160a-c9be-4c7b-b3ee-e727507b6eef",
   "metadata": {},
   "outputs": [],
   "source": [
    "# calculat the jaccard similarity coefficient between two sets\n",
    "def jaccard_similarity(s1, s2):\n",
    "    \"\"\"\n",
    "    Calculate the Jaccard similarity coefficient between two sets.\n",
    "    \"\"\"\n",
    "    intersection = len(s1.intersection(s2))\n",
    "    sqrt_cardinalities = np.sqrt(len(np.array(list(s1))) * len(np.array(list(s2))))\n",
    "    return intersection/sqrt_cardinalities if intersection != 0 else 0"
   ]
  },
  {
   "cell_type": "code",
   "execution_count": 88,
   "id": "075eb9e6-051a-4e49-9a1c-2afcebae7fee",
   "metadata": {},
   "outputs": [],
   "source": [
    "# calculate the similarity\n",
    "def calculate_similarity(c):\n",
    "    # make the list of similiarity\n",
    "    ans = list()\n",
    "    \n",
    "    for i in range(0, len(c)):\n",
    "        temp = []\n",
    "        for j in range(0, len(c)):\n",
    "\n",
    "            #calculat the jaccard similarity\n",
    "            j_s = jaccard_similarity(c[i], c[j])\n",
    "            temp.append(float(format(j_s,'.2f')))\n",
    "        ans.append(temp)\n",
    "    # return the ans\n",
    "    return ans\n",
    "    "
   ]
  },
  {
   "cell_type": "code",
   "execution_count": 89,
   "id": "4c03e85c-8fe7-4e2a-9c58-21c41851a607",
   "metadata": {},
   "outputs": [],
   "source": [
    "# find similarity of each attribute\n",
    "def similarity(conditional_matrix):\n",
    "    similarities = []\n",
    "    for col in conditional_matrix.columns:\n",
    "        c = conditional_matrix[col]\n",
    "        s_c = calculate_similarity(c)\n",
    "        similarities.append(s_c)\n",
    "    return similarities"
   ]
  },
  {
   "cell_type": "code",
   "execution_count": 90,
   "id": "976a87c9-19e9-4f2c-bb13-e725c9186a6e",
   "metadata": {},
   "outputs": [],
   "source": [
    "# finding the information entropy of each conditional attribute\n",
    "def find_information_entropy(sm):\n",
    "    information_entropy = 0\n",
    "    for i, row in enumerate(sm):\n",
    "        information_entropy = information_entropy + np.log2(np.sum(row)/5)\n",
    "    information_entropy = -information_entropy/5\n",
    "    return information_entropy"
   ]
  },
  {
   "cell_type": "code",
   "execution_count": 91,
   "id": "f2f25f39-4d42-45e9-a191-b401b1cefb5e",
   "metadata": {},
   "outputs": [],
   "source": [
    "# find decisional_entropy\n",
    "def find_conditional_entropy(similarity_matrix, decision_matrix):\n",
    "    decisional_entropy = 0\n",
    "    for row1, row2 in zip(similarity_matrix, decision_matrix):\n",
    "        r = np.sum([np.min((s1, dm1)) for s1, dm1 in zip(row1, row2)])\n",
    "        decisional_entropy = decisional_entropy + np.log2(r/np.sum(row1))\n",
    "    return -decisional_entropy/5\n",
    "    "
   ]
  },
  {
   "cell_type": "code",
   "execution_count": 92,
   "id": "0e8db44e-bb86-4635-8308-6feff04ea28a",
   "metadata": {},
   "outputs": [],
   "source": [
    "# find the mutual information gain ratio\n",
    "def gain_ratio(information_entropy, conditional_entropy,decisional_entropy):\n",
    "    gainRatio = (decisional_entropy - conditional_entropy)/information_entropy\n",
    "    return gainRatio"
   ]
  },
  {
   "cell_type": "code",
   "execution_count": 93,
   "id": "4de44331-166a-4f92-b20d-2f5e1c14c67d",
   "metadata": {},
   "outputs": [],
   "source": [
    "# separate the conditional attribute and decisional attribute\n",
    "cond_attributes = data.drop('d',axis = 1)\n",
    "dec_attr = data['d']"
   ]
  },
  {
   "cell_type": "code",
   "execution_count": 94,
   "id": "4d789000-8a9f-4319-bfa5-6ca4f8e94d05",
   "metadata": {
    "scrolled": true
   },
   "outputs": [],
   "source": [
    "# find the similarity matrix and decision matrix\n",
    "similarities = similarity(cond_attributes)\n",
    "decision_matrix = decisional_matrix(dec_attr)\n"
   ]
  },
  {
   "cell_type": "code",
   "execution_count": 95,
   "id": "4a02e2b4",
   "metadata": {},
   "outputs": [],
   "source": [
    "# calculate the union of reduct set\n",
    "def union_values(*args):\n",
    "    result = set()\n",
    "    for s in args:\n",
    "        result = result.union(s)\n",
    "    return result"
   ]
  },
  {
   "cell_type": "code",
   "execution_count": 96,
   "id": "a1589f76",
   "metadata": {},
   "outputs": [],
   "source": [
    "\n",
    "def equivalence_class(similarities_matrix, indexes):\n",
    "# Initialize a list to store the minimum values for each row\n",
    "    min_values = [] \n",
    "\n",
    "    # Iterate over each row of the matrices and compare corresponding elements across all indices\n",
    "    for row_index in range(len(similarities_matrix[0])):\n",
    "        min_row_values = [min(similarities_matrix[idx][row_index][col_index] for idx in indexes) for col_index in range(len(similarities_matrix[0][0]))]\n",
    "        min_values.append(min_row_values)\n",
    "    # Print the minimum values for each row\n",
    "    return min_values\n"
   ]
  },
  {
   "cell_type": "code",
   "execution_count": 97,
   "id": "5551f5cf-dfe6-4f51-9fb5-33b9e9da045c",
   "metadata": {},
   "outputs": [
    {
     "name": "stdout",
     "output_type": "stream",
     "text": [
      "Condition entropy for c1 0.89\n",
      "Information Entropy for c1 0.29\n",
      "Gain Ratio for c1 0.2758620689655171\n",
      "Condition entropy for c2 0.85\n",
      "Information Entropy for c2 0.57\n",
      "Gain Ratio for c2 0.2105263157894737\n",
      "Condition entropy for c3 0.95\n",
      "Information Entropy for c3 0.42\n",
      "Gain Ratio for c3 0.047619047619047665\n",
      "Conditional Entropy {'c2', 'c1'} 0.84\n",
      "Information Entropy c2 0.57\n",
      "Conditional Entorpy {'c1'} 0.89\n",
      "Gain Ratio {'c2', 'c1'} 0.08771929824561413\n",
      "Conditional Entropy {'c1', 'c3'} 0.89\n",
      "Information Entropy c3 0.42\n",
      "Conditional Entorpy {'c1'} 0.89\n",
      "Gain Ratio {'c1', 'c3'} 0.0\n",
      "Conditional Entropy {'c2', 'c1', 'c3'} 0.83\n",
      "Information Entropy c3 0.42\n",
      "Conditional Entorpy {'c2', 'c1'} 0.84\n",
      "Gain Ratio {'c2', 'c1', 'c3'} 0.023809523809523832\n"
     ]
    }
   ],
   "source": [
    "max_gr = float('-inf')\n",
    "selected_attribute = None\n",
    "p = set()\n",
    "start = True\n",
    "while start:\n",
    "    if p:\n",
    "        \"\"\"\n",
    "        Calculate mutual information entropy:\n",
    "        GR(C,P,D) = G(C,P,D)/H({C})\n",
    "                  = (H(D|P) - H(D|PU{C}))/H({C})\n",
    "        \"\"\"\n",
    "        max_gr = float('-inf')\n",
    "        selected_attribute = None\n",
    "        for i,col in enumerate(cond_attributes.columns):\n",
    "            if col not in p:\n",
    "                new_p = p.copy()  # Make a copy of p to test adding a new attribute\n",
    "                new_p.add(col)  # Add the new attribute to the copy of p\n",
    "                \n",
    "                # conditional entropy H(D|PU{C})\n",
    "                index_u = [cond_attributes.columns.get_loc(col) for col in new_p]\n",
    "                equiv_u = equivalence_class(similarities, index_u)\n",
    "                condi_entropy = float(format(find_conditional_entropy(equiv_u, decision_matrix),'.2f'))\n",
    "                print(f\"Conditional Entropy {new_p} {condi_entropy}\")\n",
    "                \n",
    "                # infromaton entropy of the column H(C)\n",
    "                inf_entropy_col = float(format(find_information_entropy(calculate_similarity(list(cond_attributes[col]))),'.2f'))\n",
    "                print(f\"Information Entropy {col} {inf_entropy_col}\")\n",
    "                \n",
    "                # conditional entropy H(D|P)\n",
    "                index = [cond_attributes.columns.get_loc(col) for col in p]\n",
    "                equiv = equivalence_class(similarities, index)\n",
    "                cond_entropy_dec_reduct = float(format(find_conditional_entropy(equiv, decision_matrix),'.2f'))\n",
    "\n",
    "                print(f\"Conditional Entorpy {p} {cond_entropy_dec_reduct}\")\n",
    "                gr = gain_ratio(decisional_entropy= cond_entropy_dec_reduct, conditional_entropy= condi_entropy, information_entropy = inf_entropy_col)\n",
    "                # gr = gain_ratio(cond_entropy_dec_reduct, condi_entropy,inf_entropy_col)\n",
    "                print(f\"Gain Ratio {new_p} {gr}\")\n",
    "                \n",
    "                if gr > max_gr:\n",
    "                    max_gr = gr\n",
    "                    selected_attribute = col\n",
    "    else:\n",
    "        for i,sim in enumerate(cond_attributes.columns):\n",
    "        \n",
    "            similarity = calculate_similarity(cond_attributes[sim].values)\n",
    "            # gain_ratio(decisional_entropy, conditional_entropy, information_entropy)\n",
    "\n",
    "            \n",
    "            dec_entropy = float(format(find_information_entropy(decision_matrix),'.2f'))\n",
    "            condi_entropy = float(format(find_conditional_entropy(similarity,decision_matrix),'.2f'))\n",
    "            info_entropy = float(format(find_information_entropy(similarity),'.2f'))\n",
    "\n",
    "            print(f'Condition entropy for {sim} {condi_entropy}')\n",
    "            print(f'Information Entropy for {sim} {info_entropy}')\n",
    "        \n",
    "            gr = gain_ratio(information_entropy=info_entropy,conditional_entropy= condi_entropy,decisional_entropy= dec_entropy)\n",
    "\n",
    "            print(f'Gain Ratio for {sim} {gr}')\n",
    "            if(gr> max_gr):\n",
    "                max_gr = gr\n",
    "                selected_attribute = cond_attributes.columns[i]\n",
    "    \n",
    "    if max_gr > 0:\n",
    "        p.add(selected_attribute)\n",
    "    else:\n",
    "        start = False\n"
   ]
  },
  {
   "cell_type": "code",
   "execution_count": null,
   "id": "6b32cef4-7908-4edc-ba17-fe8fc4755d46",
   "metadata": {},
   "outputs": [],
   "source": []
  },
  {
   "cell_type": "code",
   "execution_count": 15,
   "id": "ae02c85f-c99e-486a-9bba-650a95556123",
   "metadata": {},
   "outputs": [
    {
     "data": {
      "text/plain": [
       "[[[1.0, 0.71, 1.0, 0.87, 0.71],\n",
       "  [0.71, 1.0, 0.71, 0.82, 0.5],\n",
       "  [1.0, 0.71, 1.0, 0.87, 0.71],\n",
       "  [0.87, 0.82, 0.87, 1.0, 0.82],\n",
       "  [0.71, 0.5, 0.71, 0.82, 1.0]],\n",
       " [[1.0, 0.0, 0.5, 0.71, 0.82],\n",
       "  [0.0, 1.0, 0.5, 0.71, 0.41],\n",
       "  [0.5, 0.5, 1.0, 0.71, 0.82],\n",
       "  [0.71, 0.71, 0.71, 1.0, 0.87],\n",
       "  [0.82, 0.41, 0.82, 0.87, 1.0]],\n",
       " [[1.0, 0.71, 1.0, 0.5, 0.5],\n",
       "  [0.71, 1.0, 0.71, 0.71, 0.71],\n",
       "  [1.0, 0.71, 1.0, 0.5, 0.5],\n",
       "  [0.5, 0.71, 0.5, 1.0, 1.0],\n",
       "  [0.5, 0.71, 0.5, 1.0, 1.0]]]"
      ]
     },
     "execution_count": 15,
     "metadata": {},
     "output_type": "execute_result"
    }
   ],
   "source": [
    "similarities"
   ]
  },
  {
   "cell_type": "code",
   "execution_count": 17,
   "id": "2197a4c4-a311-430f-8e29-b803ff00267f",
   "metadata": {
    "scrolled": true
   },
   "outputs": [
    {
     "data": {
      "text/plain": [
       "[[1, 1, 0, 1, 0],\n",
       " [1, 1, 0, 1, 0],\n",
       " [0, 0, 1, 0, 1],\n",
       " [1, 1, 0, 1, 0],\n",
       " [0, 0, 1, 0, 1]]"
      ]
     },
     "execution_count": 17,
     "metadata": {},
     "output_type": "execute_result"
    }
   ],
   "source": [
    "decision_matrix"
   ]
  },
  {
   "cell_type": "markdown",
   "id": "24d589d5-c9ba-442e-a405-1a1a196f8cd3",
   "metadata": {},
   "source": [
    "# C1"
   ]
  },
  {
   "cell_type": "code",
   "execution_count": 21,
   "id": "1245d44d-53da-4416-b025-d759a0b41d72",
   "metadata": {},
   "outputs": [
    {
     "data": {
      "text/plain": [
       "0.2941355537869794"
      ]
     },
     "execution_count": 21,
     "metadata": {},
     "output_type": "execute_result"
    }
   ],
   "source": [
    "sm1 = find_information_entropy(similarities[0])\n",
    "sm1"
   ]
  },
  {
   "cell_type": "code",
   "execution_count": 23,
   "id": "a2b50ef9-d0e0-4129-b391-992ae1db39cb",
   "metadata": {},
   "outputs": [
    {
     "data": {
      "text/plain": [
       "0.8913710863859107"
      ]
     },
     "execution_count": 23,
     "metadata": {},
     "output_type": "execute_result"
    }
   ],
   "source": [
    "sm1_cond = find_conditional_entropy(similarities[0], decision_matrix)\n",
    "sm1_cond"
   ]
  },
  {
   "cell_type": "code",
   "execution_count": 25,
   "id": "6533355e-2713-4d6d-901b-6ad787ac4c2f",
   "metadata": {},
   "outputs": [
    {
     "data": {
      "text/plain": [
       "0.9709505944546686"
      ]
     },
     "execution_count": 25,
     "metadata": {},
     "output_type": "execute_result"
    }
   ],
   "source": [
    "decisio_entropy = find_information_entropy(decision_matrix)\n",
    "decisio_entropy"
   ]
  },
  {
   "cell_type": "code",
   "execution_count": 26,
   "id": "623bbc9e-a8b6-40fa-bf0d-8f463f45c320",
   "metadata": {},
   "outputs": [
    {
     "data": {
      "text/plain": [
       "0.27055385533702414"
      ]
     },
     "execution_count": 26,
     "metadata": {},
     "output_type": "execute_result"
    }
   ],
   "source": [
    "gain_ratio_c1 = gain_ratio(information_entropy=sm1, conditional_entropy=sm1_cond, decisional_entropy=decisio_entropy)\n",
    "gain_ratio_c1"
   ]
  },
  {
   "cell_type": "markdown",
   "id": "85d11374-62a6-41ab-908d-3360e9a18e3b",
   "metadata": {},
   "source": [
    "# C2"
   ]
  },
  {
   "cell_type": "code",
   "execution_count": 32,
   "id": "37338ec1-3fa5-45f4-b184-bae8a6191019",
   "metadata": {},
   "outputs": [
    {
     "data": {
      "text/plain": [
       "0.5660468062277841"
      ]
     },
     "execution_count": 32,
     "metadata": {},
     "output_type": "execute_result"
    }
   ],
   "source": [
    "sm2 = find_information_entropy(similarities[1])\n",
    "sm2"
   ]
  },
  {
   "cell_type": "code",
   "execution_count": 33,
   "id": "eabc10a1-6ca5-4c52-83d2-0495d8f351df",
   "metadata": {},
   "outputs": [
    {
     "data": {
      "text/plain": [
       "0.8457059689455463"
      ]
     },
     "execution_count": 33,
     "metadata": {},
     "output_type": "execute_result"
    }
   ],
   "source": [
    "sm2_cond = find_conditional_entropy(similarities[1], decision_matrix)\n",
    "sm2_cond"
   ]
  },
  {
   "cell_type": "code",
   "execution_count": 34,
   "id": "672906c0-ceb2-4175-94ff-ef732527ab6f",
   "metadata": {},
   "outputs": [
    {
     "data": {
      "text/plain": [
       "0.9709505944546686"
      ]
     },
     "execution_count": 34,
     "metadata": {},
     "output_type": "execute_result"
    }
   ],
   "source": [
    "decisio_entropy = find_information_entropy(decision_matrix)\n",
    "decisio_entropy"
   ]
  },
  {
   "cell_type": "code",
   "execution_count": 35,
   "id": "d397edf0-ab15-4d54-9c35-efef3739a36a",
   "metadata": {},
   "outputs": [
    {
     "data": {
      "text/plain": [
       "0.22126195949018804"
      ]
     },
     "execution_count": 35,
     "metadata": {},
     "output_type": "execute_result"
    }
   ],
   "source": [
    "gain_ratio_c2 = gain_ratio(information_entropy=sm2, conditional_entropy=sm2_cond, decisional_entropy=decisio_entropy)\n",
    "gain_ratio_c2"
   ]
  },
  {
   "cell_type": "markdown",
   "id": "9dd04a6e-d6c0-4e7a-8b33-b1a5442016b8",
   "metadata": {},
   "source": [
    "# C3"
   ]
  },
  {
   "cell_type": "code",
   "execution_count": 36,
   "id": "9fba0e70-cabe-4168-b2e6-8c81bd290481",
   "metadata": {},
   "outputs": [
    {
     "data": {
      "text/plain": [
       "0.4205714832212132"
      ]
     },
     "execution_count": 36,
     "metadata": {},
     "output_type": "execute_result"
    }
   ],
   "source": [
    "sm3 = find_information_entropy(similarities[2])\n",
    "sm3"
   ]
  },
  {
   "cell_type": "code",
   "execution_count": 38,
   "id": "6aae50bb-0855-4349-92df-f299ffa555b9",
   "metadata": {},
   "outputs": [
    {
     "data": {
      "text/plain": [
       "0.9547516540310301"
      ]
     },
     "execution_count": 38,
     "metadata": {},
     "output_type": "execute_result"
    }
   ],
   "source": [
    "sm3_cond = find_conditional_entropy(similarities[2], decision_matrix)\n",
    "sm3_cond"
   ]
  },
  {
   "cell_type": "code",
   "execution_count": 39,
   "id": "7a502979-1bdf-44d7-ab14-11ced5e7cd08",
   "metadata": {},
   "outputs": [
    {
     "data": {
      "text/plain": [
       "0.9709505944546686"
      ]
     },
     "execution_count": 39,
     "metadata": {},
     "output_type": "execute_result"
    }
   ],
   "source": [
    "decisio_entropy = find_information_entropy(decision_matrix)\n",
    "decisio_entropy"
   ]
  },
  {
   "cell_type": "code",
   "execution_count": 40,
   "id": "14dd0f65-0d79-44d0-bae0-acdf3e4283ee",
   "metadata": {},
   "outputs": [
    {
     "data": {
      "text/plain": [
       "0.03851649736108736"
      ]
     },
     "execution_count": 40,
     "metadata": {},
     "output_type": "execute_result"
    }
   ],
   "source": [
    "gain_ratio_c3 = gain_ratio(information_entropy=sm3, conditional_entropy=sm3_cond, decisional_entropy=decisio_entropy)\n",
    "gain_ratio_c3"
   ]
  },
  {
   "cell_type": "code",
   "execution_count": 42,
   "id": "7c1b5b04-53d1-4e50-93ac-45847529ad43",
   "metadata": {},
   "outputs": [],
   "source": [
    "reduct_p = {'c1'}"
   ]
  },
  {
   "cell_type": "markdown",
   "id": "978499a0-631c-4fd6-8871-ba0af4b11736",
   "metadata": {},
   "source": [
    "# c1 union c2"
   ]
  },
  {
   "cell_type": "code",
   "execution_count": 45,
   "id": "e7f6e720-36ea-485a-aad0-bcc15f46e412",
   "metadata": {},
   "outputs": [],
   "source": [
    "reduct_p_c1_union_c2 = {'c1', 'c2'}"
   ]
  },
  {
   "cell_type": "code",
   "execution_count": 47,
   "id": "b255e1c0-75b3-4f76-96b6-df4acb18134c",
   "metadata": {},
   "outputs": [],
   "source": [
    "new_redcut_c1_c2 = cond_attributes[list(reduct_p_c1_union_c2)].apply(lambda row: union_values(*row), axis=1)"
   ]
  },
  {
   "cell_type": "code",
   "execution_count": 48,
   "id": "7fa58cce-fad9-4f0f-b582-712885524c4d",
   "metadata": {},
   "outputs": [
    {
     "data": {
      "text/plain": [
       "0    {0, 1, 2, 3, 4}\n",
       "1             {2, 3}\n",
       "2       {1, 2, 3, 4}\n",
       "3    {0, 1, 2, 3, 4}\n",
       "4       {0, 1, 2, 4}\n",
       "dtype: object"
      ]
     },
     "execution_count": 48,
     "metadata": {},
     "output_type": "execute_result"
    }
   ],
   "source": [
    "new_redcut_c1_c2"
   ]
  },
  {
   "cell_type": "code",
   "execution_count": 49,
   "id": "b49a1f67-2c3c-4433-8e73-a7c5cac1d572",
   "metadata": {},
   "outputs": [
    {
     "data": {
      "text/plain": [
       "[[1.0, 0.63, 0.89, 1.0, 0.89],\n",
       " [0.63, 1.0, 0.71, 0.63, 0.35],\n",
       " [0.89, 0.71, 1.0, 0.89, 0.75],\n",
       " [1.0, 0.63, 0.89, 1.0, 0.89],\n",
       " [0.89, 0.35, 0.75, 0.89, 1.0]]"
      ]
     },
     "execution_count": 49,
     "metadata": {},
     "output_type": "execute_result"
    }
   ],
   "source": [
    "similarity_matrix_new_c1_c2 = calculate_similarity(new_redcut_c1_c2)\n",
    "similarity_matrix_new_c1_c2"
   ]
  },
  {
   "cell_type": "code",
   "execution_count": 50,
   "id": "4ac99064-e7f1-49d4-b3aa-1ed6fcff5378",
   "metadata": {},
   "outputs": [],
   "source": [
    "# index = [cond_attributes.columns.get_loc(col) for col in p]\n",
    "equiv = equivalence_class(similarities, [0,1])\n",
    "cond_entropy_dec_reduct = find_conditional_entropy(equiv, decision_matrix)"
   ]
  },
  {
   "cell_type": "code",
   "execution_count": 51,
   "id": "bb5ce825-f847-4096-aaac-48fab2d3e373",
   "metadata": {},
   "outputs": [
    {
     "data": {
      "text/plain": [
       "[[1.0, 0.0, 0.5, 0.71, 0.71],\n",
       " [0.0, 1.0, 0.5, 0.71, 0.41],\n",
       " [0.5, 0.5, 1.0, 0.71, 0.71],\n",
       " [0.71, 0.71, 0.71, 1.0, 0.82],\n",
       " [0.71, 0.41, 0.71, 0.82, 1.0]]"
      ]
     },
     "execution_count": 51,
     "metadata": {},
     "output_type": "execute_result"
    }
   ],
   "source": [
    "equiv"
   ]
  },
  {
   "cell_type": "code",
   "execution_count": 60,
   "id": "5b7d9a44-823b-4763-a1e8-3c65d1482472",
   "metadata": {},
   "outputs": [
    {
     "data": {
      "text/plain": [
       "0.84"
      ]
     },
     "execution_count": 60,
     "metadata": {},
     "output_type": "execute_result"
    }
   ],
   "source": [
    "H_D_c1_c2 = find_conditional_entropy(equiv, decision_matrix)\n",
    "H_D_c1_c2 = float(format(H_D_c1_c2,'.2f'))\n",
    "H_D_c1_c2"
   ]
  },
  {
   "cell_type": "code",
   "execution_count": 59,
   "id": "cbf690a1-cc5b-4020-b295-23ef3e447531",
   "metadata": {},
   "outputs": [
    {
     "data": {
      "text/plain": [
       "0.89"
      ]
     },
     "execution_count": 59,
     "metadata": {},
     "output_type": "execute_result"
    }
   ],
   "source": [
    "sm1_cond = float(format(sm1_cond,'.2f'))\n",
    "sm1_cond"
   ]
  },
  {
   "cell_type": "code",
   "execution_count": 62,
   "id": "556ac3a4-27a5-47ed-b1c4-4dd86550ef99",
   "metadata": {},
   "outputs": [
    {
     "data": {
      "text/plain": [
       "0.57"
      ]
     },
     "execution_count": 62,
     "metadata": {},
     "output_type": "execute_result"
    }
   ],
   "source": [
    "sm2 = float(format(sm2,'.2f'))\n",
    "sm2"
   ]
  },
  {
   "cell_type": "code",
   "execution_count": 67,
   "id": "51c8310d-9e9a-49db-a8fc-b07a0219ce21",
   "metadata": {},
   "outputs": [
    {
     "data": {
      "text/plain": [
       "0.09"
      ]
     },
     "execution_count": 67,
     "metadata": {},
     "output_type": "execute_result"
    }
   ],
   "source": [
    "r = (0.89-0.84)/0.57\n",
    "float(format(r, '.2f'))"
   ]
  },
  {
   "cell_type": "code",
   "execution_count": null,
   "id": "db3747d2-8b64-42bc-bb68-874a8187a108",
   "metadata": {},
   "outputs": [],
   "source": []
  }
 ],
 "metadata": {
  "kernelspec": {
   "display_name": "Python 3 (ipykernel)",
   "language": "python",
   "name": "python3"
  },
  "language_info": {
   "codemirror_mode": {
    "name": "ipython",
    "version": 3
   },
   "file_extension": ".py",
   "mimetype": "text/x-python",
   "name": "python",
   "nbconvert_exporter": "python",
   "pygments_lexer": "ipython3",
   "version": "3.9.0"
  },
  "widgets": {
   "application/vnd.jupyter.widget-state+json": {
    "state": {},
    "version_major": 2,
    "version_minor": 0
   }
  }
 },
 "nbformat": 4,
 "nbformat_minor": 5
}
